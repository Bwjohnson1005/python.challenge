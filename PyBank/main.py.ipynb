{
 "cells": [
  {
   "cell_type": "code",
   "execution_count": 9,
   "metadata": {},
   "outputs": [
    {
     "name": "stdout",
     "output_type": "stream",
     "text": [
      "Financial Analysis\n",
      "---------------------------------------\n",
      "Total Months: 86\n",
      "Net Total Profit/Losses: $22564198\n",
      "Average Change: $-8311.11\n",
      "Greatest Increase in Profits: Aug-16 ($1862002.0)\n",
      "Greatest Decrease in Profits: Feb-14 ($-1825558.0)\n"
     ]
    }
   ],
   "source": [
    "#import resources\n",
    "import os\n",
    "import csv \n",
    "import pandas as pd\n",
    "\n",
    "#load the dataset\n",
    "file_path = os.path.join(\"../PyBank/Resources/budget_data.csv\")  \n",
    "data = pd.read_csv(file_path)\n",
    "\n",
    "#calculate total months\n",
    "total_months = data['Date'].count()\n",
    "\n",
    "#calculate net total\n",
    "net_total = data['Profit/Losses'].sum()\n",
    "\n",
    "#calculate changes in \"Profits/losses\" during the period\n",
    "data['Change'] = data['Profit/Losses'].diff()\n",
    "\n",
    "#calculate average of the changes\n",
    "average_change = data['Change'].mean()\n",
    "\n",
    "#identify the greatest increase profits\n",
    "greatest_increase = data.loc[data['Change'].idxmax()]\n",
    "\n",
    "#identify the greatest decrease in profits\n",
    "greatest_decrease = data.loc[data['Change'].idxmin()]\n",
    "\n",
    "#display results\n",
    "print('Financial Analysis')\n",
    "print('---------------------------------------')\n",
    "print(f\"Total Months: {total_months}\")\n",
    "print(f\"Net Total Profit/Losses: ${net_total}\")\n",
    "print(f\"Average Change: ${average_change:.2f}\")\n",
    "print(f\"Greatest Increase in Profits: {greatest_increase['Date']} (${greatest_increase['Change']})\")\n",
    "print(f\"Greatest Decrease in Profits: {greatest_decrease['Date']} (${greatest_decrease['Change']})\")"
   ]
  },
  {
   "cell_type": "code",
   "execution_count": null,
   "metadata": {},
   "outputs": [],
   "source": []
  }
 ],
 "metadata": {
  "kernelspec": {
   "display_name": "dev",
   "language": "python",
   "name": "python3"
  },
  "language_info": {
   "codemirror_mode": {
    "name": "ipython",
    "version": 3
   },
   "file_extension": ".py",
   "mimetype": "text/x-python",
   "name": "python",
   "nbconvert_exporter": "python",
   "pygments_lexer": "ipython3",
   "version": "3.10.14"
  }
 },
 "nbformat": 4,
 "nbformat_minor": 2
}
