{
 "cells": [
  {
   "cell_type": "code",
   "execution_count": 1,
   "metadata": {},
   "outputs": [
    {
     "name": "stdout",
     "output_type": "stream",
     "text": [
      "Total Votes Cast: 369710\n",
      "\n",
      "Election Results:\n",
      "Diana DeGette: 272892 votes (73.81%)\n",
      "Charles Casper Stockham: 85212 votes (23.05%)\n",
      "Raymon Anthony Doane: 11606 votes (3.14%)\n",
      "\n",
      "Winner of the Election: Diana DeGette\n"
     ]
    }
   ],
   "source": [
    "import pandas as pd\n",
    "\n",
    "file_path = 'Pypoll/Resources/election_data.csv'\n",
    "election_data = pd.read_csv(file_path)\n",
    "\n",
    "total_votes = election_data['Ballot ID'].nunique()\n",
    "\n",
    "candidate_votes = election_data['Candidate'].value_counts()\n",
    "\n",
    "candidate_percentage = (candidate_votes / total_votes) * 100\n",
    "\n",
    "election_results = {\n",
    "    'Candidate': list(candidate_votes.index),\n",
    "    'Total Votes': list(candidate_votes.values),\n",
    "    'Percentage of Votes': list(candidate_percentage.values)\n",
    "}\n",
    "\n",
    "winner = candidate_votes.idxmax()\n",
    "\n",
    "print(f\"Total Votes Cast: {total_votes}\\n\")\n",
    "print(\"Election Results:\")\n",
    "for i in range(len(election_results['Candidate'])):\n",
    "    print(f\"{election_results['Candidate'][i]}: {election_results['Total Votes'][i]} votes ({election_results['Percentage of Votes'][i]:.2f}%)\")\n",
    "\n",
    "print(f\"\\nWinner of the Election: {winner}\")\n",
    "\n",
    "results_df = pd.DataFrame(election_results)\n",
    "results_df.to_csv('election_results.csv', index=False)"
   ]
  }
 ],
 "metadata": {
  "kernelspec": {
   "display_name": "dev",
   "language": "python",
   "name": "python3"
  },
  "language_info": {
   "codemirror_mode": {
    "name": "ipython",
    "version": 3
   },
   "file_extension": ".py",
   "mimetype": "text/x-python",
   "name": "python",
   "nbconvert_exporter": "python",
   "pygments_lexer": "ipython3",
   "version": "3.10.14"
  }
 },
 "nbformat": 4,
 "nbformat_minor": 2
}
