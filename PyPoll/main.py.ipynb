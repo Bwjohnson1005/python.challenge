{
 "cells": [
  {
   "cell_type": "code",
   "execution_count": 10,
   "metadata": {},
   "outputs": [
    {
     "name": "stdout",
     "output_type": "stream",
     "text": [
      "Election Results:\n",
      "-------------------------------------\n",
      "Total Votes Cast: 369710\n",
      "\n",
      "-------------------------------------\n",
      "Diana DeGette: 272892 votes (73.81%)\n",
      "Charles Casper Stockham: 85212 votes (23.05%)\n",
      "Raymon Anthony Doane: 11606 votes (3.14%)\n",
      "----------------------------------------\n",
      "\n",
      "Winner of the Election: Diana DeGette\n"
     ]
    }
   ],
   "source": [
    "#import resources\n",
    "import pandas as pd\n",
    "\n",
    "#load the dataset\n",
    "file_path = '../Pypoll/Resources/election_data.csv'\n",
    "election_data = pd.read_csv(file_path)\n",
    "\n",
    "# Calculate the total number of votes cast\n",
    "total_votes = election_data['Ballot ID'].nunique()\n",
    "\n",
    "#Calculate number of votes each candidate won\n",
    "candidate_votes = election_data['Candidate'].value_counts()\n",
    "\n",
    "#Calculate percentage of votes each candidate won\n",
    "candidate_percentage = (candidate_votes / total_votes) * 100\n",
    "\n",
    "#combine candidate, votes and percentage\n",
    "election_results = {\n",
    "    'Candidate': list(candidate_votes.index),\n",
    "    'Total Votes': list(candidate_votes.values),\n",
    "    'Percentage of Votes': list(candidate_percentage.values)\n",
    "}\n",
    "\n",
    "#identify winner of election\n",
    "winner = candidate_votes.idxmax()\n",
    "\n",
    "#print election results\n",
    "print(\"Election Results:\")\n",
    "print('-------------------------------------')\n",
    "print(f\"Total Votes Cast: {total_votes}\\n\")\n",
    "print('-------------------------------------')\n",
    "for i in range(len(election_results['Candidate'])):\n",
    "    print(f\"{election_results['Candidate'][i]}: {election_results['Total Votes'][i]} votes ({election_results['Percentage of Votes'][i]:.2f}%)\")\n",
    "\n",
    "print('----------------------------------------')\n",
    "print(f\"\\nWinner of the Election: {winner}\")\n",
    "\n",
    "#save results to a csv file\n",
    "results_df = pd.DataFrame(election_results)\n",
    "results_df.to_csv('election_results.csv', index=False)"
   ]
  }
 ],
 "metadata": {
  "kernelspec": {
   "display_name": "dev",
   "language": "python",
   "name": "python3"
  },
  "language_info": {
   "codemirror_mode": {
    "name": "ipython",
    "version": 3
   },
   "file_extension": ".py",
   "mimetype": "text/x-python",
   "name": "python",
   "nbconvert_exporter": "python",
   "pygments_lexer": "ipython3",
   "version": "3.10.14"
  }
 },
 "nbformat": 4,
 "nbformat_minor": 2
}
